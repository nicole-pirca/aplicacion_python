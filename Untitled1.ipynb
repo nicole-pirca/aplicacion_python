{
 "cells": [
  {
   "cell_type": "code",
   "execution_count": 1,
   "metadata": {},
   "outputs": [],
   "source": [
    "import pandas as pd\n",
    "import numpy as np"
   ]
  },
  {
   "cell_type": "code",
   "execution_count": null,
   "metadata": {},
   "outputs": [],
   "source": [
    "path='./data/documentos_iniciales/informacion_general.xlsx'\n",
    "headers=['bodega','codigo','administrador','direccion','correo','telefono','extension','celular']\n",
    "df_bodegas_1=pd.read_excel(path,sheet_name='BODEGAS EP PEC',skiprows=3)\n",
    "df_bodegas_1.columns=headers\n",
    "df_bodegas_1"
   ]
  },
  {
   "cell_type": "code",
   "execution_count": null,
   "metadata": {},
   "outputs": [],
   "source": [
    "def limpiar_direccion(direccion_str):\n",
    "    direccion_nueva=direccion_str\n",
    "    direccion_nueva=direccion_nueva.replace('½',' 1/2')\n",
    "    direccion_nueva=direccion_nueva.replace('\\n',' ')\n",
    "    return direccion_nueva"
   ]
  },
  {
   "cell_type": "code",
   "execution_count": null,
   "metadata": {},
   "outputs": [],
   "source": [
    "direcciones_1=df_bodegas_1['direccion'].values\n",
    "direcciones_1=list(map(limpiar_direccion,direcciones_1))\n",
    "df_bodegas_1['direccion']=direcciones_1\n",
    "df_bodegas_1"
   ]
  },
  {
   "cell_type": "code",
   "execution_count": null,
   "metadata": {},
   "outputs": [],
   "source": [
    "def limpiar_correo(correo_str):\n",
    "    return correo_str.lower()"
   ]
  },
  {
   "cell_type": "code",
   "execution_count": null,
   "metadata": {},
   "outputs": [],
   "source": [
    "correos_1=df_bodegas_1['correo'].values\n",
    "correos_1=list(map(limpiar_correo,correos_1))\n",
    "df_bodegas_1['correo']=correos_1\n",
    "df_bodegas_1"
   ]
  },
  {
   "cell_type": "code",
   "execution_count": null,
   "metadata": {},
   "outputs": [],
   "source": [
    "def limpiar_telefono(telefono):\n",
    "    try:\n",
    "        return str(int(round(telefono,0)))\n",
    "    except :\n",
    "        return ''"
   ]
  },
  {
   "cell_type": "code",
   "execution_count": null,
   "metadata": {},
   "outputs": [],
   "source": [
    "telefonos_1=df_bodegas_1['telefono'].values\n",
    "telefonos_1=list(map(limpiar_telefono,telefonos_1))\n",
    "df_bodegas_1['telefono']=telefonos_1\n",
    "df_bodegas_1"
   ]
  },
  {
   "cell_type": "code",
   "execution_count": null,
   "metadata": {},
   "outputs": [],
   "source": [
    "def limpiar_extensiones(extension_str):\n",
    "    return str(extension_str).replace('\\n','/')"
   ]
  },
  {
   "cell_type": "code",
   "execution_count": null,
   "metadata": {},
   "outputs": [],
   "source": [
    "extension_1=df_bodegas_1['extension'].values\n",
    "extension_1=list(map(limpiar_extensiones,extension_1))\n",
    "df_bodegas_1['extension']=extension_1\n",
    "df_bodegas_1"
   ]
  },
  {
   "cell_type": "code",
   "execution_count": null,
   "metadata": {},
   "outputs": [],
   "source": [
    "def limpiar_celular(celular):\n",
    "    try:\n",
    "        return '0'+str(int(round(celular,0)))\n",
    "    except :\n",
    "        return ''"
   ]
  },
  {
   "cell_type": "code",
   "execution_count": null,
   "metadata": {},
   "outputs": [],
   "source": [
    "celulares_1=df_bodegas_1['celular'].values\n",
    "celulares_1=list(map(limpiar_celular,celulares_1))\n",
    "df_bodegas_1['celular']=celulares_1\n",
    "df_bodegas_1"
   ]
  },
  {
   "cell_type": "code",
   "execution_count": null,
   "metadata": {},
   "outputs": [],
   "source": [
    "from geopy.geocoders import Nominatim\n",
    "geolocator = Nominatim(user_agent=\"examen-2B\")\n",
    "location = geolocator.geocode(\"SHUSHUFINDI\")\n",
    "location"
   ]
  },
  {
   "cell_type": "code",
   "execution_count": null,
   "metadata": {},
   "outputs": [],
   "source": [
    "latitudes_1=np.empty([len(direcciones_1)], dtype=\"<U10\")\n",
    "longitudes_1=np.empty([len(direcciones_1)], dtype=\"<U10\")\n",
    "indice=0\n",
    "for direccion in direcciones_1:\n",
    "    try:\n",
    "        location = geolocator.geocode(direccion)\n",
    "        latitud=location.latitude\n",
    "        print(latitud)\n",
    "        longitud=location.longitude\n",
    "        print(longitud)\n",
    "    except:\n",
    "        latitud = ''\n",
    "        longitud = ''\n",
    "    latitudes_1[indice]=latitud\n",
    "    longitudes_1[indice]=longitud\n",
    "    indice+=1"
   ]
  },
  {
   "cell_type": "code",
   "execution_count": null,
   "metadata": {},
   "outputs": [],
   "source": [
    "df_bodegas_1['latitud']=latitudes_1\n",
    "df_bodegas_1['longitud']=longitudes_1"
   ]
  },
  {
   "cell_type": "code",
   "execution_count": null,
   "metadata": {},
   "outputs": [],
   "source": [
    "headers_2=['bodega','direccion','administrador','correo','telefono','extension','producto']\n",
    "df_bodegas_2=pd.read_excel(path,sheet_name='REFINERÍAS',skiprows=3)\n",
    "df_bodegas_2.columns=headers_2\n",
    "df_bodegas_2"
   ]
  },
  {
   "cell_type": "code",
   "execution_count": null,
   "metadata": {},
   "outputs": [],
   "source": [
    "direcciones_2=df_bodegas_2['direccion'].values\n",
    "direcciones_2=list(map(limpiar_direccion,direcciones_2))\n",
    "df_bodegas_2['direccion']=direcciones_2\n",
    "df_bodegas_2"
   ]
  },
  {
   "cell_type": "code",
   "execution_count": null,
   "metadata": {},
   "outputs": [],
   "source": [
    "latitudes_2=np.empty([len(direcciones_2)], dtype=\"<U10\")\n",
    "longitudes_2=np.empty([len(direcciones_2)], dtype=\"<U10\")\n",
    "indice=0\n",
    "for direccion in direcciones_2:\n",
    "    try:\n",
    "        location = geolocator.geocode(direccion)\n",
    "        latitud=location.latitude\n",
    "        print(latitud)\n",
    "        longitud=location.longitude\n",
    "        print(longitud)\n",
    "    except:\n",
    "        latitud = ''\n",
    "        longitud = ''\n",
    "    latitudes_2[indice]=latitud\n",
    "    longitudes_2[indice]=longitud\n",
    "    indice+=1"
   ]
  },
  {
   "cell_type": "code",
   "execution_count": null,
   "metadata": {},
   "outputs": [],
   "source": [
    "df_bodegas_2['latitud']=latitudes_2\n",
    "df_bodegas_2['longitud']=longitudes_2"
   ]
  },
  {
   "cell_type": "code",
   "execution_count": null,
   "metadata": {},
   "outputs": [],
   "source": [
    "del df_bodegas_2['producto']\n",
    "celulares_2=np.empty([len(direcciones_2)], dtype=\"<U10\")\n",
    "df_bodegas_2['celular']=celulares_2\n",
    "codigos_2=np.empty([len(direcciones_2)], dtype=\"<U10\")\n",
    "df_bodegas_2['codigo']=codigos_2"
   ]
  },
  {
   "cell_type": "code",
   "execution_count": null,
   "metadata": {},
   "outputs": [],
   "source": [
    "df_bodegas_1=df_bodegas_1.append(df_bodegas_2, ignore_index = True,sort=True)"
   ]
  },
  {
   "cell_type": "code",
   "execution_count": null,
   "metadata": {},
   "outputs": [],
   "source": [
    "df_bodegas_1"
   ]
  },
  {
   "cell_type": "code",
   "execution_count": null,
   "metadata": {},
   "outputs": [],
   "source": [
    "path_guardado='./data/documentos_finales/bodegas_finales.xlsx'\n",
    "df_bodegas_1.to_excel(path_guardado,sheet_name='Bodegas')"
   ]
  }
 ],
 "metadata": {
  "kernelspec": {
   "display_name": "Python 3",
   "language": "python",
   "name": "python3"
  },
  "language_info": {
   "codemirror_mode": {
    "name": "ipython",
    "version": 3
   },
   "file_extension": ".py",
   "mimetype": "text/x-python",
   "name": "python",
   "nbconvert_exporter": "python",
   "pygments_lexer": "ipython3",
   "version": "3.7.3"
  }
 },
 "nbformat": 4,
 "nbformat_minor": 2
}
