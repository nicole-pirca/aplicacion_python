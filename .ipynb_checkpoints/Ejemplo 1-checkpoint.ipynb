{
 "cells": [
  {
   "cell_type": "code",
   "execution_count": 3,
   "metadata": {},
   "outputs": [],
   "source": [
    "from tkinter import*\n",
    "import sys\n",
    "from PyQt5 import QtWidgets\n",
    "raiz= Tk()\n",
    "raiz.title(\"LOVE YOURSELF\")\n",
    "raiz.iconbitmap(\"icono.ico\")\n",
    "miFrame=Frame()\n",
    "miFrame.pack()\n",
    "miFrame.config(width=\"650\", height=\"350\")\n",
    "raiz.mainloop()\n",
    "\n"
   ]
  },
  {
   "cell_type": "code",
   "execution_count": null,
   "metadata": {},
   "outputs": [],
   "source": [
    "def registrar_Modelo():\n",
    "        nombre_Modelo=(input(\"Ingrese modelo del Auto:\"))\n",
    "        descripcion_Modelo=(input(\"Ingrese caracteristicas del Auto:\"))\n",
    "        anio=(input(\"Ingrese el año del modelo:\"))\n",
    "    #mostrar_mayor(valor1,valor2,valor3)\n",
    "registrar_Modelo()\n",
    "\n",
    "try :\n",
    "    path ='./modelo.txt'\n",
    "    archivo_escritura_abierto = open(path, mode=\"w\")\n",
    "    #a ->Append. se agrega hacia abajo las lineas.\n",
    "    #w ->Write (sobre escribe)\n",
    "\n",
    "    archivo_escritura_abierto.write(str((nombre_Modelo)))\n",
    "    archivo_escritura_abierto.close()\n",
    "\n",
    "except Exception as error:\n",
    "    print(\"Error\")\n",
    "\n"
   ]
  },
  {
   "cell_type": "code",
   "execution_count": 29,
   "metadata": {},
   "outputs": [
    {
     "ename": "NameError",
     "evalue": "name 'registrar_Modelo1' is not defined",
     "output_type": "error",
     "traceback": [
      "\u001b[1;31m---------------------------------------------------------------------------\u001b[0m",
      "\u001b[1;31mNameError\u001b[0m                                 Traceback (most recent call last)",
      "\u001b[1;32m<ipython-input-29-a6a05c1949f0>\u001b[0m in \u001b[0;36m<module>\u001b[1;34m\u001b[0m\n\u001b[0;32m     16\u001b[0m         \u001b[0mprint\u001b[0m\u001b[1;33m(\u001b[0m\u001b[1;34m\"Error\"\u001b[0m\u001b[1;33m)\u001b[0m\u001b[1;33m\u001b[0m\u001b[1;33m\u001b[0m\u001b[0m\n\u001b[0;32m     17\u001b[0m \u001b[1;33m\u001b[0m\u001b[0m\n\u001b[1;32m---> 18\u001b[1;33m \u001b[0mregistrar_Modelo1\u001b[0m\u001b[1;33m(\u001b[0m\u001b[1;33m)\u001b[0m\u001b[1;33m\u001b[0m\u001b[1;33m\u001b[0m\u001b[0m\n\u001b[0m",
      "\u001b[1;31mNameError\u001b[0m: name 'registrar_Modelo1' is not defined"
     ]
    }
   ],
   "source": [
    "class Modelo:\n",
    "\n",
    "    def registrar_Modelo1(nombre_Modelo,descripcion):\n",
    "        nombre_Modelo=\"KIA\"\n",
    "        descripcion=\"blalakkkkk\"\n",
    "    try :\n",
    "        path = './modelo.txt'\n",
    "        nombre_Modelo=\"KIA\"\n",
    "        descripcion=\"blalakkkkk\"\n",
    "        archivo_escritura_abierto = open(path, mode=\"w\")\n",
    "        \n",
    "        archivo_escritura_abierto.write(str((nombre_Modelo)))\n",
    "        archivo_escritura_abierto.writelines(str((descripcion))) #escribir varias lineas.\n",
    "        archivo_escritura_abierto.close()\n",
    "    except Exception as error:\n",
    "        print(\"Error\")\n",
    "\n",
    "registrar_Modelo1()\n",
    "\n",
    "\n",
    "\n",
    "\n",
    "\n",
    "class Auto:\n",
    "    color = None\n",
    "    __numero_chasis = 1\n",
    "    \n",
    "    def __init__(self,color):   #definir constructor (__init__). SELF = this\n",
    "        print(\"Ingresar nombre\")\n",
    "        input(self.color) #acceder al atributo\n",
    "        self.color = color\n",
    "        \n",
    "    #funcion override\n",
    "    def __str__(self):\n",
    "        return (f\"Color: {self.color}\\nChasis: {self.__numero_chasis}\")\n",
    "        \n",
    "        \n",
    "nuevo_Auto = Auto(\"amazul\")\n",
    "print(nuevo_Auto)\n",
    "#print(nuevo_Auto.color)\n",
    "#print(nuevo_Auto._Auto__numero_chasis) #para atributos privados"
   ]
  },
  {
   "cell_type": "code",
   "execution_count": 72,
   "metadata": {},
   "outputs": [],
   "source": [
    "\n",
    "def eliminar_modelo():\n",
    "    path = './modelo.txt'\n",
    "\n",
    "    archivo_escritura_abierto = open(path, mode=\"r\")\n",
    "    \n",
    "    lineas = archivo_escritura_abierto.readlines()\n",
    "    archivo_escritura_abierto.close() \n",
    "\n",
    "eliminar_modelo()"
   ]
  },
  {
   "cell_type": "code",
   "execution_count": 63,
   "metadata": {},
   "outputs": [
    {
     "name": "stdout",
     "output_type": "stream",
     "text": [
      "KIA \n",
      "\n",
      "blala \n",
      "\n"
     ]
    }
   ],
   "source": [
    "def consulta_Modelo():\n",
    "    try:\n",
    "        path = './modelo.txt'\n",
    "        archivo_abierto = open(path)\n",
    "        contenido = archivo_abierto.readlines() \n",
    "        \n",
    "        for linea in contenido:\n",
    "            print(linea)\n",
    "\n",
    "    except Exception as error:\n",
    "        print(\"Error\")\n",
    "        \n",
    "consulta_Modelo()"
   ]
  },
  {
   "cell_type": "code",
   "execution_count": 62,
   "metadata": {},
   "outputs": [
    {
     "name": "stdout",
     "output_type": "stream",
     "text": [
      "Selecciona una opción\n",
      "\t1 - Ingresar Modelos\n",
      "\t2 - Eliminar Modelo Registrado\n",
      "\t3 - Consultar Modelos Registrados\n",
      "\t4 - salir\n",
      "inserta un numero valor >> 1\n",
      "Has pulsado la opción 1...\\Registros de Modelos\n",
      "Nombre del Modelo\n",
      "kia\n",
      "kia\n"
     ]
    }
   ],
   "source": [
    "\n",
    "def menu_principal ():\n",
    "    print (\"Selecciona una opción\")\n",
    "    print (\"\\t1 - Ingresar Modelos\")\n",
    "    print (\"\\t2 - Eliminar Modelo Registrado\")\n",
    "    print (\"\\t3 - Consultar Modelos Registrados\")\n",
    "    print (\"\\t4 - salir\")\n",
    "\n",
    "while True:\n",
    "    menu_principal()\n",
    "      \n",
    "    opcionMenu = input(\"inserta un numero valor >> \")\n",
    "            #es mas recomendable\n",
    "    if opcionMenu==\"1\":\n",
    "        print(\"Has pulsado la opción 1...\\Registros de Modelos\")\n",
    "        nuevo_Auto=Auto(\"\")\n",
    "      \n",
    "        break\n",
    "    elif opcionMenu==\"2\": \n",
    "        \n",
    "        print(\"Has pulsado la opción 2...\\n Eliminar Modelo registrado \\n pulsa una tecla para continuar\")\n",
    "        \n",
    "        \n",
    "    elif opcionMenu==\"3\":\n",
    "        input(\"Has pulsado la opción 3...\\nConsultar Modelos Registrados \\n pulsa una tecla para continuar\")\n",
    "    elif opcionMenu==\"4\":\n",
    "        break\n",
    "    else:\n",
    "        input(\"No has pulsado ninguna opción correcta...\\npulsa una tecla para continuar\")\n",
    "           \n",
    "\n"
   ]
  },
  {
   "cell_type": "code",
   "execution_count": 67,
   "metadata": {},
   "outputs": [
    {
     "name": "stdout",
     "output_type": "stream",
     "text": [
      "Nombre del Modelo\n",
      "jka\n",
      "jka\n"
     ]
    }
   ],
   "source": [
    "\n",
    "class Modelo:\n",
    "    \n",
    "    nombre=\"\"\n",
    "    color=\"\"\n",
    "    caracteristica=\"\"\n",
    "    precio=\"\"\n",
    "       \n",
    "    def __init__(self,nombre,color,caracteristica,precio):   #definir constructor (__init__). SELF = this\n",
    "        print(\"Nombre del Modelo\")\n",
    "        nom_Modelo=input(self.nombre) #acceder al atributo\n",
    "        self.nombre = nombre\n",
    "        print(\"Nombre del Modelo\")\n",
    "        col_Modelo=input(self.color) #acceder al atributo\n",
    "        self.color = color\n",
    "        print(\"Nombre del Modelo\")\n",
    "        carac_Modelo=input(self.caracteristica) #acceder al atributo\n",
    "        self.caracteristica = caracteristica\n",
    "        print(\"Nombre del Modelo\")\n",
    "        precio_Modelo=input(self.precio) #acceder al atributo\n",
    "        self.precio = precio\n",
    "        print(dele)\n",
    "        \n",
    "nuevo_Auto = Auto(\"\")\n"
   ]
  },
  {
   "cell_type": "code",
   "execution_count": null,
   "metadata": {},
   "outputs": [],
   "source": []
  }
 ],
 "metadata": {
  "kernelspec": {
   "display_name": "Python 3",
   "language": "python",
   "name": "python3"
  },
  "language_info": {
   "codemirror_mode": {
    "name": "ipython",
    "version": 3
   },
   "file_extension": ".py",
   "mimetype": "text/x-python",
   "name": "python",
   "nbconvert_exporter": "python",
   "pygments_lexer": "ipython3",
   "version": "3.7.3"
  }
 },
 "nbformat": 4,
 "nbformat_minor": 2
}
