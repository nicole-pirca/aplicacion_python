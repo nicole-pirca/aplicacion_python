{
 "cells": [
  {
   "cell_type": "code",
   "execution_count": 1,
   "metadata": {},
   "outputs": [],
   "source": [
    "from tkinter import*\n",
    "import sys\n",
    "from PyQt5 import QtWidgets\n",
    "raiz= Tk()\n",
    "raiz.title(\"LOVE YOURSELF\")\n",
    "raiz.iconbitmap(\"icono.ico\")\n",
    "miFrame=Frame()\n",
    "miFrame.pack()\n",
    "miFrame.config(width=\"650\", height=\"350\")\n",
    "raiz.mainloop()\n",
    "###\n"
   ]
  },
  {
   "cell_type": "code",
   "execution_count": 2,
   "metadata": {},
   "outputs": [
    {
     "name": "stdout",
     "output_type": "stream",
     "text": [
      "Ingrese modelo del Auto:1\n",
      "Ingrese caracteristicas del Auto:JSD\n",
      "Ingrese el año del modelo:SF\n",
      "Error\n"
     ]
    }
   ],
   "source": [
    "def registrar_Modelo():\n",
    "        nombre_Modelo=(input(\"Ingrese modelo del Auto:\"))\n",
    "        descripcion_Modelo=(input(\"Ingrese caracteristicas del Auto:\"))\n",
    "        anio=(input(\"Ingrese el año del modelo:\"))\n",
    "    #mostrar_mayor(valor1,valor2,valor3)\n",
    "registrar_Modelo()\n",
    "\n",
    "try :\n",
    "    path ='./modelo.txt'\n",
    "    archivo_escritura_abierto = open(path, mode=\"w\")\n",
    "    #a ->Append. se agrega hacia abajo las lineas.\n",
    "    #w ->Write (sobre escribe)\n",
    "\n",
    "    archivo_escritura_abierto.write(str((nombre_Modelo)))\n",
    "    archivo_escritura_abierto.close()\n",
    "\n",
    "except Exception as error:\n",
    "    print(\"Error\")\n",
    "\n"
   ]
  },
  {
   "cell_type": "code",
   "execution_count": null,
   "metadata": {},
   "outputs": [],
   "source": []
  },
  {
   "cell_type": "code",
   "execution_count": null,
   "metadata": {},
   "outputs": [],
   "source": [
    "\n",
    "def eliminar_modelo():\n",
    "    path = './modelo.txt'\n",
    "\n",
    "    \n",
    "    archivo_escritura_abierto = open(path)\n",
    "    output = []\n",
    "    for line in f:\n",
    "        if not \"atributo\" in line:\n",
    "            output.append(line)\n",
    "    archivo_escritura_abierto.close()\n",
    "    archivo_escritura_abierto = open(fn, 'w')\n",
    "    archivo_escritura_abierto.writelines(output)\n",
    "    archivo_escritura_abierto.close()\n",
    "\n",
    "eliminar_modelo()"
   ]
  },
  {
   "cell_type": "code",
   "execution_count": 10,
   "metadata": {},
   "outputs": [
    {
     "name": "stdout",
     "output_type": "stream",
     "text": [
      "KIAblalakkkkk\n"
     ]
    }
   ],
   "source": [
    "def consulta_Modelo():\n",
    "    try:\n",
    "        path = './modelo.txt'\n",
    "        archivo_abierto = open(path)\n",
    "        contenido = archivo_abierto.readlines() \n",
    "        \n",
    "        for linea in contenido:\n",
    "            print(linea)\n",
    "\n",
    "    except Exception as error:\n",
    "        print(\"Error\")\n",
    "        \n",
    "consulta_Modelo()"
   ]
  },
  {
   "cell_type": "code",
   "execution_count": null,
   "metadata": {},
   "outputs": [],
   "source": [
    "\n",
    "def menu_principal ():\n",
    "    print (\"Selecciona una opción\")\n",
    "    print (\"\\t1 - Ingresar Modelos\")\n",
    "    print (\"\\t2 - Eliminar Modelo Registrado\")\n",
    "    print (\"\\t3 - Consultar Modelos Registrados\")\n",
    "    print (\"\\t4 - salir\")\n",
    "\n",
    "while True:\n",
    "    menu_principal()\n",
    "      \n",
    "    opcionMenu = input(\"inserta un numero valor >> \")\n",
    "            #es mas recomendable\n",
    "    if opcionMenu==\"1\":\n",
    "        print(\"Has pulsado la opción 1...\\Registros de Modelos\")\n",
    "        nuevo_Modelo = Modelo(\"\",\"\",\"\",\"\")\n",
    "     \n",
    "    elif opcionMenu==\"2\": \n",
    "        \n",
    "        print(\"opción 2...\\n Eliminar Modelo registrado \\n pulsa una tecla para continuar\")\n",
    "        \n",
    "        \n",
    "    elif opcionMenu==\"3\":\n",
    "        print(\"opción 3...\\nConsultar Modelos Registrados \\n pulsa una tecla para continuar\")\n",
    "        consulta_Modelo()\n",
    "   \n",
    "    elif opcionMenu==\"4\":\n",
    "        break\n",
    "    else:\n",
    "        input(\"No has pulsado ninguna opción correcta...\\npulsa una tecla para continuar\")\n",
    "           \n",
    "\n"
   ]
  },
  {
   "cell_type": "code",
   "execution_count": 23,
   "metadata": {},
   "outputs": [
    {
     "name": "stdout",
     "output_type": "stream",
     "text": [
      "Nombre del Modelo: \n",
      "CARNIVAL\n",
      "Color del Modelo: \n",
      "AZUL\n",
      "Caracteristicas del Modelo: \n",
      "ALTO MEDIO LINDO\n",
      "Precio del Modelo: \n",
      "45000\n",
      "REGISTRO INGRESADO CON EXITO\n"
     ]
    }
   ],
   "source": [
    "\n",
    "class Modelo:\n",
    "    \n",
    "    nombre=\"\"\n",
    "    color=\"\"\n",
    "    caracteristica=\"\"\n",
    "    precio=\"\"\n",
    "    path='./modelo.txt'\n",
    "       \n",
    "    def __init__(self,nombre,color,caracteristica,precio):   #definir constructor (__init__). SELF = this\n",
    "        \n",
    "        archivo_escritura_abierto = open(path, mode=\"a\")\n",
    "        print(\"Nombre del Modelo: \")\n",
    "        nom_Modelo=input(self.nombre) \n",
    "        self.nombre = nombre\n",
    "                \n",
    "        print(\"Color del Modelo: \")\n",
    "        col_Modelo=input(self.color) \n",
    "        self.color = color\n",
    "                \n",
    "        print(\"Caracteristicas del Modelo: \")\n",
    "        carac_Modelo=input(self.caracteristica) \n",
    "        self.caracteristica = caracteristica\n",
    "                \n",
    "        print(\"Precio del Modelo: \")\n",
    "        precio_Modelo=input(self.precio) \n",
    "        self.precio = precio\n",
    "        archivo_escritura_abierto.writelines([nom_Modelo,\"\\n\",col_Modelo,\"\\n\",carac_Modelo,\"\\n\",precio_Modelo])\n",
    "        \n",
    "        print(\"REGISTRO INGRESADO CON EXITO\")\n",
    "    \n",
    "    def __str__(self):\n",
    "        return (f\"Color: {self.color}\\nNombre: {self.nombre}\")   \n",
    "   \n",
    "    ## Creacion de modelos\n",
    "\n",
    "nuevo_Modelo = Modelo(\"\",\"\",\"\",\"\")\n",
    "\n"
   ]
  },
  {
   "cell_type": "code",
   "execution_count": null,
   "metadata": {},
   "outputs": [],
   "source": []
  },
  {
   "cell_type": "code",
   "execution_count": null,
   "metadata": {},
   "outputs": [],
   "source": []
  }
 ],
 "metadata": {
  "kernelspec": {
   "display_name": "Python 3",
   "language": "python",
   "name": "python3"
  },
  "language_info": {
   "codemirror_mode": {
    "name": "ipython",
    "version": 3
   },
   "file_extension": ".py",
   "mimetype": "text/x-python",
   "name": "python",
   "nbconvert_exporter": "python",
   "pygments_lexer": "ipython3",
   "version": "3.7.3"
  }
 },
 "nbformat": 4,
 "nbformat_minor": 2
}
